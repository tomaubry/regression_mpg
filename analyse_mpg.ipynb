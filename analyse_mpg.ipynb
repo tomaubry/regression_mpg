{
 "cells": [
  {
   "cell_type": "markdown",
   "id": "b64dbe66-8807-44cf-8c10-26329999ecb6",
   "metadata": {},
   "source": [
    "L'objet de cet exercice consiste à comparer différents modèles de regression capable de prédire la consommation en essence d'une voiture à partir de certaines de ces caractéristiques. La variable cible est le MPG qui correspond au nombre de miles qu'on peut effectuer avec un baril d'essence. Ce notebook utilise le jeu de données classique Auto MPG qui contient des exemples d'automobiles de la fin des années 1970 et du début des années 1980 avec des données tels que : la cylindrée, la puissance, le poids..."
   ]
  },
  {
   "cell_type": "markdown",
   "id": "59edf624-411a-4bed-ac4e-08f54a3964be",
   "metadata": {},
   "source": [
    "# Charger les packages et importer les données"
   ]
  },
  {
   "cell_type": "code",
   "execution_count": 1,
   "id": "ec4591b8-5312-478c-82e4-34a1f718d0e8",
   "metadata": {},
   "outputs": [],
   "source": [
    "import matplotlib.pyplot as plt\n",
    "import numpy as np\n",
    "import pandas as pd\n",
    "import seaborn as sns\n",
    "\n",
    "import tensorflow as tf\n",
    "\n",
    "from tensorflow import keras\n",
    "from tensorflow.keras.layers import Input, Dense\n",
    "from tensorflow.keras.models import Model\n",
    "\n",
    "from sklearn.model_selection import train_test_split"
   ]
  },
  {
   "cell_type": "code",
   "execution_count": 25,
   "id": "149699be-16d7-45cd-8513-4168ea8fe775",
   "metadata": {},
   "outputs": [
    {
     "name": "stdout",
     "output_type": "stream",
     "text": [
      "    MPG  Cylinders  Displacement  Horsepower  Weight  Acceleration  \\\n",
      "0  18.0          8         307.0       130.0    3504          12.0   \n",
      "1  15.0          8         350.0       165.0    3693          11.5   \n",
      "2  18.0          8         318.0       150.0    3436          11.0   \n",
      "3  16.0          8         304.0       150.0    3433          12.0   \n",
      "4  17.0          8         302.0       140.0    3449          10.5   \n",
      "\n",
      "   Model Year  Origin  \n",
      "0          70       1  \n",
      "1          70       1  \n",
      "2          70       1  \n",
      "3          70       1  \n",
      "4          70       1  \n"
     ]
    }
   ],
   "source": [
    "column_names = ['MPG', 'Cylinders', 'Displacement', 'Horsepower', \n",
    "                'Weight', 'Acceleration', 'Model Year', 'Origin', 'Car name']\n",
    "\n",
    "dataset = pd.read_csv(\n",
    "    'auto-mpg.csv',\n",
    "    names=column_names,\n",
    "    na_values='?',\n",
    "    comment='\\t',\n",
    "    sep=',',              # ← mets bien le bon séparateur (',' ou ' ' selon ton fichier)\n",
    "    skipinitialspace=True,\n",
    "    header=0              # ← dit à Pandas que la 1ère ligne contient déjà les en-têtes\n",
    ")\n",
    "\n",
    "dataset= dataset.drop('Car name', axis=1)\n",
    "\n",
    "print(dataset.head())"
   ]
  },
  {
   "cell_type": "markdown",
   "id": "f1a27b50-c68d-4142-97ab-0a41aa93a9a2",
   "metadata": {},
   "source": [
    "# Nettoyer les donneés"
   ]
  },
  {
   "cell_type": "code",
   "execution_count": 29,
   "id": "927864e0-2ff6-4e68-bfa2-c073e1d50fb1",
   "metadata": {},
   "outputs": [
    {
     "name": "stdout",
     "output_type": "stream",
     "text": [
      "MPG             0\n",
      "Cylinders       0\n",
      "Displacement    0\n",
      "Horsepower      0\n",
      "Weight          0\n",
      "Acceleration    0\n",
      "Model Year      0\n",
      "Origin          0\n",
      "dtype: int64\n"
     ]
    }
   ],
   "source": [
    "# Vérifier les valeurs manquantes\n",
    "print(dataset.isnull().sum())"
   ]
  },
  {
   "cell_type": "code",
   "execution_count": 32,
   "id": "717abc50-9ed1-47f1-842b-9e6a02ba6f0d",
   "metadata": {},
   "outputs": [
    {
     "name": "stdout",
     "output_type": "stream",
     "text": [
      "    MPG  Cylinders  Displacement  Horsepower  Weight  Acceleration  \\\n",
      "0  18.0          8         307.0       130.0    3504          12.0   \n",
      "1  15.0          8         350.0       165.0    3693          11.5   \n",
      "2  18.0          8         318.0       150.0    3436          11.0   \n",
      "3  16.0          8         304.0       150.0    3433          12.0   \n",
      "4  17.0          8         302.0       140.0    3449          10.5   \n",
      "\n",
      "   Model Year  Origin_1  Origin_2  Origin_3  \n",
      "0          70         1         0         0  \n",
      "1          70         1         0         0  \n",
      "2          70         1         0         0  \n",
      "3          70         1         0         0  \n",
      "4          70         1         0         0  \n"
     ]
    }
   ],
   "source": [
    "#encoder la colonne origin en format (one-hot encoding)\n",
    "dataset_encoded = pd.get_dummies(dataset, columns=['Origin'], prefix='Origin', dtype=int)\n",
    "\n",
    "\n",
    "# Verification\n",
    "print(dataset_encoded.head())"
   ]
  },
  {
   "cell_type": "code",
   "execution_count": null,
   "id": "66d9c037-5801-4210-91a7-f03642e40acb",
   "metadata": {},
   "outputs": [],
   "source": []
  }
 ],
 "metadata": {
  "kernelspec": {
   "display_name": "Python (tf_env)",
   "language": "python",
   "name": "tf_env"
  },
  "language_info": {
   "codemirror_mode": {
    "name": "ipython",
    "version": 3
   },
   "file_extension": ".py",
   "mimetype": "text/x-python",
   "name": "python",
   "nbconvert_exporter": "python",
   "pygments_lexer": "ipython3",
   "version": "3.10.18"
  }
 },
 "nbformat": 4,
 "nbformat_minor": 5
}
